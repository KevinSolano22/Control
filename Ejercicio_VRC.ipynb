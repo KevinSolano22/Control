{
  "nbformat": 4,
  "nbformat_minor": 0,
  "metadata": {
    "colab": {
      "private_outputs": true,
      "provenance": [],
      "authorship_tag": "ABX9TyMjJzCI/dL1dKHutRZm5IBB",
      "include_colab_link": true
    },
    "kernelspec": {
      "name": "python3",
      "display_name": "Python 3"
    },
    "language_info": {
      "name": "python"
    }
  },
  "cells": [
    {
      "cell_type": "markdown",
      "metadata": {
        "id": "view-in-github",
        "colab_type": "text"
      },
      "source": [
        "<a href=\"https://colab.research.google.com/github/KevinSolano22/Control/blob/main/Ejercicio_VRC.ipynb\" target=\"_parent\"><img src=\"https://colab.research.google.com/assets/colab-badge.svg\" alt=\"Open In Colab\"/></a>"
      ]
    },
    {
      "cell_type": "markdown",
      "source": [
        "$$\\frac{dV_c(t)}{dt}=-\\frac{1}{RC}V_c(t)+\\frac{1}{RC}V_s(t)$$"
      ],
      "metadata": {
        "id": "c5-vjq77VxHH"
      }
    },
    {
      "cell_type": "code",
      "source": [
        "import numpy as np\n",
        "import matplotlib.pyplot as plt\n",
        "\n",
        "R,C = 1e3,1e-6\n",
        "tau = R*C\n",
        "vc0 = 2\n",
        "dt = tau/10\n",
        "t_final  =10*tau\n",
        "\n",
        "\n",
        "vc_current= vc0\n",
        "vct = [vc_current]\n",
        "t = [0]\n",
        "for i in range(int(t_final/dt)):\n",
        "  vc_next = vc_current + dt*(-vc_current/R/C)\n",
        "  vct.append(vc_next)\n",
        "  t.append(dt*(i+1))\n",
        "\n",
        "  vc_current = vc_next\n",
        "# print(t)\n",
        "# print(vct)\n",
        "\n",
        "plt.plot(t,vct)\n",
        "print(range(int(t_final/dt+1)))\n",
        "\n",
        "\n",
        "plt.plot(t,vc0*np.exp(-np.multiply(t,1/R/C)))"
      ],
      "metadata": {
        "id": "7Ity7Uh0VzjF"
      },
      "execution_count": null,
      "outputs": []
    },
    {
      "cell_type": "code",
      "source": [
        "#Método de Euler\n",
        "\n",
        "def RC_ivp(t,vc,R,C,U):\n",
        "  dvc =-vc/R/C+U/R/C\n",
        "  return dvc\n",
        "\n",
        "def solve_ivp_euler(f,tspan,x0,h,R,C,U):\n",
        "  x = [x0]\n",
        "  t = [tspan[0]]\n",
        "  x_current = x0\n",
        "  for i in range(int((tspan[-1]-tspan[0])/h)):\n",
        "    x_next = x_current + h*f(h*i,x_current,R,C,U)\n",
        "    x.append(x_next)\n",
        "    t.append(h*(i+1))\n",
        "    x_current = x_next\n",
        "  return [t,x]\n",
        "\n",
        "R,C,U =  1e3, 1e-6, 1\n",
        "tau = R*C\n",
        "h = tau/100\n",
        "tend = 10*tau\n",
        "\n",
        "for vc0 in [0,.5,1,1.5,2]:\n",
        "  [t,vc] = solve_ivp_euler(RC_ivp,[0,tend],vc0,h,R,C,U)\n",
        "  plt.plot(t,vc)\n",
        "  plt.axis([0,tend,0,2])"
      ],
      "metadata": {
        "id": "rmMeumhLbeCE"
      },
      "execution_count": null,
      "outputs": []
    },
    {
      "cell_type": "code",
      "source": [
        "from scipy.integrate import solve_ivp\n",
        "import matplotlib.pyplot as plt\n",
        "import numpy as np\n",
        "\n",
        "def RC_ivp(t,vc,R,C,U):\n",
        "  return -vc/R/C+U/R/C\n",
        "\n",
        "R,C,U =  1e3, 1e-6, 1\n",
        "tau = R*C\n",
        "tend = 10*tau\n",
        "\n",
        "sol = solve_ivp(RC_ivp,[0,tend],[0,.5,1,1.5,2],args=(R,C,U),dense_output=True)\n",
        "\n",
        "t = np.linspace(0, tend, 1001)\n",
        "x = sol.sol(t)\n",
        "\n",
        "plt.plot(t, x.T)\n",
        "plt.plot(sol.t, sol.y.T)\n",
        "\n",
        "print(sol)"
      ],
      "metadata": {
        "id": "76CrKTpxce2p"
      },
      "execution_count": null,
      "outputs": []
    }
  ]
}